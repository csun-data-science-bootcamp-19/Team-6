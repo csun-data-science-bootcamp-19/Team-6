{
 "cells": [
  {
   "cell_type": "code",
   "execution_count": 1,
   "metadata": {},
   "outputs": [],
   "source": [
    "import pandas as pd\n",
    "import numpy as np\n",
    "import matplotlib.pyplot as plt\n",
    "import seaborn as sns\n",
    "%matplotlib inline"
   ]
  },
  {
   "cell_type": "code",
   "execution_count": 2,
   "metadata": {},
   "outputs": [],
   "source": [
    "# Cleaning the data"
   ]
  },
  {
   "cell_type": "code",
   "execution_count": 3,
   "metadata": {},
   "outputs": [],
   "source": [
    "def make_title_col(df):\n",
    "    import re \n",
    "    idx=df.columns.tolist().index('Name')\n",
    "    find=re.compile(r'(\\w+)\\.')\n",
    "    titles=[find.search(i[idx]).groups()[0] for i in np.array(df) if find.search(i[idx])]\n",
    "    titles=[i if i in ['Mr', 'Mrs', 'Miss', 'Master'] \n",
    "            else 'FancyM' if i in ['Don', 'Rev', 'Dr', 'Major', 'Sir', 'Col', 'Capt', 'Jonkheer'] \n",
    "            else 'FancyF' for i in titles]    \n",
    "    ret=df.copy()\n",
    "    ret['Title'] = np.array(titles)\n",
    "    return ret\n",
    "\n",
    "def impute_col(df, columns):\n",
    "    from sklearn.impute import SimpleImputer\n",
    "    imp = SimpleImputer(strategy='mean')\n",
    "    tmp=df.copy()    \n",
    "    tmp.loc[:,columns] = imp.fit_transform(tmp.loc[:, columns].values.reshape(-1,1)).tolist() \n",
    "    return tmp\n",
    "\n",
    "def clean(df):\n",
    "    tmp=df.copy()\n",
    "    tmp=make_title_col(tmp)\n",
    "   # tmp=tmp.groupby('Title').apply(lambda g: impute_col(g, 'Age'))\n",
    "    tmp=tmp.reset_index(drop=True)\n",
    "    tmp['Child']=[1 if i<10 else 0 for i in tmp['Age']]\n",
    "    tmp.drop(columns=['Name', 'PassengerId', 'Sex', 'Ticket', 'Fare', 'Cabin', 'Embarked', 'Pclass', 'Age'], inplace=True)\n",
    "    tmp=pd.get_dummies(tmp, columns=['Title'])\n",
    "    return tmp\n",
    "\n",
    "def clean_train(df):\n",
    "    return clean(df.drop(columns=['Survived']))\n",
    "\n",
    "def clean_test(df):\n",
    "    return clean(df)\n",
    "\n",
    "train=pd.read_csv('data/train.csv')\n",
    "train=clean_train(train)"
   ]
  },
  {
   "cell_type": "code",
   "execution_count": 4,
   "metadata": {},
   "outputs": [],
   "source": [
    "def model(X, y):\n",
    "    from sklearn.neighbors import KNeighborsClassifier as Model\n",
    "    from sklearn.model_selection import cross_val_score as cv\n",
    "\n",
    "    results=[]\n",
    "    \n",
    "    for i in ['uniform', 'distance']:\n",
    "        for k in range(5,10):\n",
    "            knn=Model(n_neighbors=k, weights=i)\n",
    "            results.append((knn, sum(cv(knn, X, y, cv=15))/15))\n",
    "    \n",
    "    results = sorted(results, key=lambda i: i[1], reverse=True)\n",
    "    \n",
    "    return results[0][0].fit(X,y)"
   ]
  },
  {
   "cell_type": "code",
   "execution_count": 5,
   "metadata": {},
   "outputs": [],
   "source": [
    "def submit(model, filename):\n",
    "    test=pd.read_csv(filename)\n",
    "    ids=test[['PassengerId']]\n",
    "    test=clean_test(test) \n",
    "    predictions=pd.DataFrame(model.predict(test))\n",
    "    predictions.columns=['Survived']\n",
    "    df=pd.concat([ids, predictions], axis=1)\n",
    "    df.to_csv('submission.csv', index=False)"
   ]
  },
  {
   "cell_type": "code",
   "execution_count": 14,
   "metadata": {
    "scrolled": true
   },
   "outputs": [
    {
     "data": {
      "text/plain": [
       "(KNeighborsClassifier(algorithm='auto', leaf_size=30, metric='minkowski',\n",
       "                      metric_params=None, n_jobs=None, n_neighbors=9, p=2,\n",
       "                      weights='uniform'), 0.8609865470852018)"
      ]
     },
     "execution_count": 14,
     "metadata": {},
     "output_type": "execute_result"
    }
   ],
   "source": [
    "# Clean the data\n",
    "\n",
    "from sklearn.model_selection import train_test_split as tts\n",
    "\n",
    "train=pd.read_csv('data/train.csv')\n",
    "train_y=train['Survived'].values\n",
    "\n",
    "train=clean_train(train)\n",
    "\n",
    "results = []\n",
    "\n",
    "for i in range(0, 30):\n",
    "\n",
    "    X, tX, y, ty = tts(train, train_y)\n",
    "\n",
    "    knn=model(X, y)\n",
    "    submit(knn, 'data/test.csv')\n",
    "\n",
    "    results.append((knn, knn.score(tX, ty)))\n",
    "\n",
    "results = sorted(results, key=lambda i: i[1], reverse=True)\n",
    "results[0]"
   ]
  },
  {
   "cell_type": "markdown",
   "metadata": {},
   "source": [
    "# Cleaning the Data\n",
    "\n",
    "## Importing the data"
   ]
  },
  {
   "cell_type": "code",
   "execution_count": null,
   "metadata": {},
   "outputs": [],
   "source": [
    "titanic = pd.read_csv('data/train.csv')\n",
    "titanic.describe(include='all').drop(columns=['PassengerId', 'Name', 'Ticket', 'Cabin'])"
   ]
  },
  {
   "cell_type": "markdown",
   "metadata": {},
   "source": [
    "### Missing data?"
   ]
  },
  {
   "cell_type": "code",
   "execution_count": null,
   "metadata": {},
   "outputs": [],
   "source": [
    "def nullstat(dataset):\n",
    "    total=dataset.isnull().sum().sort_values(ascending=False)\n",
    "    percent=(dataset.isnull().sum()/dataset.isnull().count()) \\\n",
    "        .sort_values(ascending=False)\n",
    "    missing_data=pd.concat([total, percent], axis=1, keys=['Total','Percent'])\n",
    "    missing_data=missing_data[missing_data.Percent != 0]\n",
    "    f, ax = plt.subplots(figsize=(11, 6))\n",
    "    sns.barplot(y=missing_data.index, x=missing_data['Percent'], orient='h')\n",
    "    plt.ylabel('Features', fontsize=18)\n",
    "    plt.xlabel('Percent of missing values', fontsize=18)\n",
    "    plt.title('Percent missing data by feature', fontsize=18)\n",
    "    plt.xlim([0.0, 1.0])\n",
    "\n",
    "nullstat(titanic)\n",
    "titanic.drop(columns=['Ticket', 'Cabin'], inplace=True)\n",
    "titanic.head()"
   ]
  },
  {
   "cell_type": "markdown",
   "metadata": {},
   "source": [
    "Stone, Mrs. George Nelson (Martha Evelyn) and her Maid Icard Miss. Amelie, embarked in Southampton<sup>1</sup>\n",
    "\n",
    "<sup>1</sup>(2019) Martha Evelyn Stone Encyclopedia Titanica (ref: #287, updated 18th June 2019 06:25:53 AM)\n",
    "URL : https://www.encyclopedia-titanica.org/titanic-survivor/martha-evelyn-stone.html"
   ]
  },
  {
   "cell_type": "code",
   "execution_count": null,
   "metadata": {},
   "outputs": [],
   "source": [
    "titanic.at[829, 'Embarked'] = 'S'\n",
    "titanic.at[61, 'Embarked'] = 'S'"
   ]
  },
  {
   "cell_type": "markdown",
   "metadata": {},
   "source": [
    "### Name Column"
   ]
  },
  {
   "cell_type": "code",
   "execution_count": null,
   "metadata": {
    "scrolled": false
   },
   "outputs": [],
   "source": [
    "import random as rand\n",
    "print(max(titanic['Name'], key=len))\n",
    "sname_lengths=[len(i) for i in titanic[titanic.Survived==1]['Name']]\n",
    "dname_lengths=[len(i) for i in titanic[titanic.Survived==0]['Name']]\n",
    "display(sorted(map(len, titanic['Name'].to_list()), reverse=True)[0:5])\n",
    "sns.distplot(rand.sample(sname_lengths, 3*len(sname_lengths)//4), bins=15, hist=False);\n",
    "sns.distplot(rand.sample(dname_lengths, 3*len(dname_lengths)//4), bins=15, hist=False);"
   ]
  },
  {
   "cell_type": "code",
   "execution_count": null,
   "metadata": {},
   "outputs": [],
   "source": [
    "titanic=make_title_col(titanic)"
   ]
  },
  {
   "cell_type": "code",
   "execution_count": null,
   "metadata": {},
   "outputs": [],
   "source": [
    "title_stats=[]\n",
    "for title in titles:\n",
    "    title_match=re.compile(title + r'\\.')\n",
    "    matches=np.array([i for i in np.array(titanic) if title_match.search(i[3])])\n",
    "    survived=sum(matches.T[1])\n",
    "    count=len(matches)    \n",
    "    title_stats.append({'Title':title, 'Count':count, 'Survival Rate':survived/count})\n",
    "\n",
    "\n",
    "title_stats=pd.DataFrame(sorted(title_stats, key=lambda i: i['Count'], reverse=True)).T\n",
    "title_stats.columns=title_stats.T['Title']\n",
    "title_stats=title_stats.T.drop(columns='Title')[['Survival Rate', 'Count']].T\n",
    "title_stats"
   ]
  },
  {
   "cell_type": "code",
   "execution_count": null,
   "metadata": {},
   "outputs": [],
   "source": [
    "for name, group in titanic.groupby('Title'):\n",
    "        with open(\"title_stats.txt\", \"w\") as f:\n",
    "            f.write(name + '\\n' + str(group.describe(include='all')) + '\\n')"
   ]
  },
  {
   "cell_type": "code",
   "execution_count": null,
   "metadata": {},
   "outputs": [],
   "source": []
  },
  {
   "cell_type": "code",
   "execution_count": null,
   "metadata": {},
   "outputs": [],
   "source": []
  }
 ],
 "metadata": {
  "jupytext": {
   "cell_metadata_filter": "-all",
   "notebook_metadata_filter": "-all"
  },
  "kernelspec": {
   "display_name": "Python 3",
   "language": "python",
   "name": "python3"
  },
  "language_info": {
   "codemirror_mode": {
    "name": "ipython",
    "version": 3
   },
   "file_extension": ".py",
   "mimetype": "text/x-python",
   "name": "python",
   "nbconvert_exporter": "python",
   "pygments_lexer": "ipython3",
   "version": "3.7.3"
  }
 },
 "nbformat": 4,
 "nbformat_minor": 2
}
